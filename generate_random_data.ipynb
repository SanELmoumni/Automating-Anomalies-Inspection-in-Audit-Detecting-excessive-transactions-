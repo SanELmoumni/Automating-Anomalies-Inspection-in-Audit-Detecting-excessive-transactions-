{
 "cells": [
  {
   "cell_type": "markdown",
   "id": "wanted-sociology",
   "metadata": {},
   "source": [
    "# This script is used to generate randomly a file, containing informations about the employees transactions.\n",
    "\n",
    "## For confideltiality purposes, i didn't share the original file !\n",
    "\n",
    "We will need informations such as the employee's ID, the amount and the date of the transaction.\n",
    "\n",
    "This file be used in the `anomaly_transactions.ipynb` notebook, to detect employees who exceeded 3 transactions per 10 days, because this is considered as a suspicious act and an anomaly.\n",
    "\n",
    "Check the `README` repo's file for more details !"
   ]
  },
  {
   "cell_type": "code",
   "execution_count": 1,
   "id": "progressive-needle",
   "metadata": {},
   "outputs": [],
   "source": [
    "import pandas as pd\n",
    "import random\n",
    "from random import randrange\n",
    "from datetime import timedelta, datetime"
   ]
  },
  {
   "cell_type": "code",
   "execution_count": 2,
   "id": "unsigned-washington",
   "metadata": {},
   "outputs": [
    {
     "name": "stdin",
     "output_type": "stream",
     "text": [
      "How many lines to generate ? 5000\n"
     ]
    }
   ],
   "source": [
    "while True:\n",
    "    n = int(input(\"How many lines to generate ?\"))\n",
    "    if n <= 1000000 and n>0:\n",
    "        break;\n",
    "        \n",
    "ids = []\n",
    "nb_id = int(n/2)"
   ]
  },
  {
   "cell_type": "markdown",
   "id": "periodic-weapon",
   "metadata": {},
   "source": [
    "# Function will be used to generate random dates. "
   ]
  },
  {
   "cell_type": "code",
   "execution_count": 3,
   "id": "moderate-differential",
   "metadata": {},
   "outputs": [],
   "source": [
    "def random_date(start, end):\n",
    "    \"\"\"\n",
    "    This function will return a random datetime between two datetime \n",
    "    objects.\n",
    "    \"\"\"\n",
    "    delta = end - start\n",
    "    int_delta = (delta.days * 24 * 60 * 60) + delta.seconds\n",
    "    random_second = randrange(int_delta)\n",
    "    return start + timedelta(seconds=random_second)"
   ]
  },
  {
   "cell_type": "code",
   "execution_count": 4,
   "id": "whole-graph",
   "metadata": {},
   "outputs": [
    {
     "name": "stdout",
     "output_type": "stream",
     "text": [
      "     employee_ID Amount                Date\n",
      "0           2083  10819 2020-01-23 08:10:41\n",
      "1             66  20504 2020-01-11 10:42:46\n",
      "2           1222  26655 2020-01-08 15:47:24\n",
      "3           2412   7611 2020-01-18 18:11:45\n",
      "4           2251  11989 2020-01-08 04:23:45\n",
      "...          ...    ...                 ...\n",
      "4995         969  19758 2020-01-04 23:17:16\n",
      "4996        1195   6042 2020-01-02 15:32:58\n",
      "4997         526  37910 2020-01-09 09:41:03\n",
      "4998         127   8248 2020-01-12 02:46:40\n",
      "4999        1068  11249 2020-01-08 08:43:11\n",
      "\n",
      "[5000 rows x 3 columns]\n"
     ]
    }
   ],
   "source": [
    "cols = [\"employee_ID\", \"Amount\", \"Date\"]\n",
    "df = pd.DataFrame(columns = cols)\n",
    "\n",
    "#Generating random IDs\n",
    "\n",
    "for i in range(n):\n",
    "    line_id = random.randint(1,nb_id)\n",
    "    line_amount = random.randint(1000, 50000)\n",
    "    \n",
    "    d1 = datetime.strptime('1/1/2020', '%d/%m/%Y')\n",
    "    d2 = datetime.strptime('31/1/2020', '%d/%m/%Y')\n",
    "\n",
    "    line_date = random_date(d1, d2)\n",
    "\n",
    "    new_row = {cols[0]:line_id, cols[1]:line_amount, cols[2]:line_date}\n",
    "    df = df.append(new_row, ignore_index=True)\n",
    "\n",
    "print(df)"
   ]
  },
  {
   "cell_type": "markdown",
   "id": "democratic-professional",
   "metadata": {},
   "source": [
    "# Storing the file !"
   ]
  },
  {
   "cell_type": "code",
   "execution_count": 5,
   "id": "delayed-newton",
   "metadata": {},
   "outputs": [],
   "source": [
    "df.to_excel(\"Generated_file.xlsx\",header=True,index=None)"
   ]
  },
  {
   "cell_type": "code",
   "execution_count": null,
   "id": "received-conjunction",
   "metadata": {},
   "outputs": [],
   "source": []
  }
 ],
 "metadata": {
  "kernelspec": {
   "display_name": "myenv",
   "language": "python",
   "name": "myenv"
  },
  "language_info": {
   "codemirror_mode": {
    "name": "ipython",
    "version": 3
   },
   "file_extension": ".py",
   "mimetype": "text/x-python",
   "name": "python",
   "nbconvert_exporter": "python",
   "pygments_lexer": "ipython3",
   "version": "3.9.1"
  }
 },
 "nbformat": 4,
 "nbformat_minor": 5
}
