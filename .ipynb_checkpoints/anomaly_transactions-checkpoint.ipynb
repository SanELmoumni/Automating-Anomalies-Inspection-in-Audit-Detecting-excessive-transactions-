{
 "cells": [
  {
   "cell_type": "markdown",
   "metadata": {},
   "source": [
    "# Reminder !!!\n",
    "\n",
    "For confidentiality purposes, the data used in this notebook isn't real, but was generated randomly using the script (generate_random_data.py in the same repo)."
   ]
  },
  {
   "cell_type": "markdown",
   "metadata": {},
   "source": [
    "# Importing libraries"
   ]
  },
  {
   "cell_type": "code",
   "execution_count": 67,
   "metadata": {},
   "outputs": [],
   "source": [
    "import numpy as np\n",
    "import pandas as pd\n",
    "import numpy as np\n",
    "from datetime import datetime\n",
    "from pandas import ExcelWriter\n",
    "import xlsxwriter"
   ]
  },
  {
   "cell_type": "markdown",
   "metadata": {},
   "source": [
    "# Reading the data.\n",
    "\n",
    "### For better and clear results, I sorted the date in ascending order, using the employee's ID and then the transaction's date."
   ]
  },
  {
   "cell_type": "code",
   "execution_count": 68,
   "metadata": {},
   "outputs": [
    {
     "name": "stdout",
     "output_type": "stream",
     "text": [
      "employee_ID             int64\n",
      "Amount                  int64\n",
      "Date           datetime64[ns]\n",
      "dtype: object\n"
     ]
    }
   ],
   "source": [
    "file_name = 'Generated_file.xlsx'\n",
    "df = pd.read_excel(file_name, header=0)\n",
    "print(df.dtypes)\n",
    "#df.columns = [\"ID\",  \"Montant\",  \"Date\"]\n",
    "#print(df.columns)\n",
    "df.sort_values([\"employee_ID\",\"Date\"],ascending=True, inplace=True)\n",
    "#dfCopy = df.copy()"
   ]
  },
  {
   "cell_type": "code",
   "execution_count": 69,
   "metadata": {},
   "outputs": [
    {
     "name": "stdout",
     "output_type": "stream",
     "text": [
      "2165\n"
     ]
    }
   ],
   "source": [
    "all_id = []\n",
    "all_id = pd.unique(df[\"employee_ID\"].sort_values())\n",
    "print(len(all_id))"
   ]
  },
  {
   "cell_type": "markdown",
   "metadata": {},
   "source": [
    "# Delete all employees who didn't knowing that we don't care if it's more or less than 3 days "
   ]
  },
  {
   "cell_type": "code",
   "execution_count": 70,
   "metadata": {},
   "outputs": [],
   "source": [
    "indexx = []\n",
    "for i in range(len(all_id)):\n",
    "    dfIndividu = df.query('employee_ID == {}'.format(all_id[i]))\n",
    "    if dfIndividu.shape[0] <= 3:\n",
    "        indexx.append(i)"
   ]
  },
  {
   "cell_type": "code",
   "execution_count": 71,
   "metadata": {},
   "outputs": [
    {
     "name": "stdout",
     "output_type": "stream",
     "text": [
      "2165\n",
      "364\n"
     ]
    }
   ],
   "source": [
    "print(len(all_id))\n",
    "all_id = np.delete(all_id, indexx)\n",
    "print(len(all_id))"
   ]
  },
  {
   "cell_type": "code",
   "execution_count": 72,
   "metadata": {},
   "outputs": [],
   "source": [
    "dfCDF = pd.DataFrame(columns = [\"employee_ID\", \"Amount\", \"Date\"])\n",
    "for i in all_id:\n",
    "    temp = df.query('employee_ID == {}'.format(i))\n",
    "    dfCDF = pd.concat([dfCDF,temp])"
   ]
  },
  {
   "cell_type": "code",
   "execution_count": 73,
   "metadata": {},
   "outputs": [
    {
     "name": "stdout",
     "output_type": "stream",
     "text": [
      "Empty DataFrame\n",
      "Columns: [employee_ID, Amount, DateOp]\n",
      "Index: []\n",
      "employee_ID            object\n",
      "Amount                 object\n",
      "DateOp         datetime64[ns]\n",
      "dtype: object\n"
     ]
    }
   ],
   "source": [
    "dfCDF['DateOp'] = pd.to_datetime(dfCDF['Date'], dayfirst=True)\n",
    "#dfCDF['Date'] = pd.to_datetime(df['Date']) \n",
    "dfCDF = dfCDF.drop(['Date'], axis=1)\n",
    "dfCDF.reset_index(drop=True, inplace=True)\n",
    "print(dfCDF.query(\"employee_ID==101\"))\n",
    "print(dfCDF.dtypes)"
   ]
  },
  {
   "cell_type": "code",
   "execution_count": 74,
   "metadata": {},
   "outputs": [],
   "source": [
    "for i in all_id :\n",
    "    dfIndividu = dfCDF.query('employee_ID== {}'.format(i))\n",
    "    dfIndividu.reset_index(drop=True, inplace=True)\n",
    "    if( (dfIndividu['DateOp'].iloc[-1]- dfIndividu['DateOp'].iloc[0]).days < 10 and dfIndividu.shape[0]<=3):\n",
    "        indexNames = dfCDF[ dfCDF['employee_ID'] == i].index\n",
    "        dfCDF.drop(indexNames ,inplace=True)"
   ]
  },
  {
   "cell_type": "code",
   "execution_count": 75,
   "metadata": {},
   "outputs": [],
   "source": [
    "all_id = []\n",
    "all_id = pd.unique(dfCDF[\"employee_ID\"].sort_values())\n",
    "resultatFinal = pd.DataFrame(columns = [\"employee_ID\", \"Depuis\",\"Jusqu'au\", \"Montant Total\"])\n",
    "for i in all_id :\n",
    "    #print(i)\n",
    "    dfIndividu = dfCDF.query('employee_ID == {}'.format(i))\n",
    "    dfIndividu.reset_index(drop=True, inplace=True)\n",
    "    dateinit = dfIndividu['DateOp'].iloc[0]\n",
    "    datefin = dfIndividu['DateOp'].iloc[-1]\n",
    "    total = 0\n",
    "    if (datefin - dateinit).days <= 10:\n",
    "        total = dfIndividu['Amount'].sum()\n",
    "        dfResult = pd.DataFrame({\"employee_ID\":[i],\"Depuis\":[dateinit],\"Jusqu'au\":datefin, \"Montant Total\":[total]})\n",
    "        resultatFinal = pd.concat([resultatFinal,dfResult])\n",
    "        continue\n",
    "    else:\n",
    "        k=0\n",
    "        while(k < dfIndividu.shape[0]-1):\n",
    "            dateinit = dfIndividu['DateOp'].iloc[k]\n",
    "            total = dfIndividu['Amount'].iloc[k]\n",
    "            l=k+1\n",
    "            while(l < dfIndividu.shape[0] and (dfIndividu['DateOp'].iloc[l] - dateinit).days <= 10):\n",
    "                #print(\"l = {}\".format(l))\n",
    "                total += dfIndividu['Amount'].iloc[l]\n",
    "                l += 1\n",
    "            dfResult = pd.DataFrame({\"employee_ID\":[i],\"Depuis\":[dateinit],\"Jusqu'au\":dfIndividu['DateOp'].iloc[l-1], \"Montant Total\":[total]})\n",
    "            resultatFinal = pd.concat([resultatFinal,dfResult])\n",
    "            k=l\n",
    "            if(k==dfIndividu.shape[0]-1):\n",
    "                break"
   ]
  },
  {
   "cell_type": "code",
   "execution_count": 76,
   "metadata": {},
   "outputs": [
    {
     "name": "stdout",
     "output_type": "stream",
     "text": [
      "   employee_ID Montant Total          Du     Jusqu'a\n",
      "0            4         36502  2020/01/02  2020/01/07\n",
      "1            4         55115  2020/01/22  2020/01/26\n",
      "2            5         56352  2020/01/06  2020/01/10\n",
      "3           21         21280  2020/01/03  2020/01/03\n",
      "4           21         63293  2020/01/19  2020/01/23\n",
      "5           27        106702  2020/01/12  2020/01/23\n",
      "6           34        109266  2020/01/11  2020/01/19\n",
      "7           36        112725  2020/01/11  2020/01/19\n",
      "8           43         86918  2020/01/02  2020/01/04\n",
      "9           43         58512  2020/01/26  2020/01/30\n",
      "10          69          4288  2020/01/02  2020/01/02\n",
      "11          69         29522  2020/01/14  2020/01/23\n",
      "12          77         11008  2020/01/01  2020/01/01\n",
      "13          77        122935  2020/01/18  2020/01/23\n",
      "14          85         61736  2020/01/05  2020/01/14\n",
      "15          92          9002  2020/01/04  2020/01/04\n",
      "16          92         84342  2020/01/20  2020/01/26\n",
      "17          97         32135  2020/01/01  2020/01/05\n",
      "18         107        115643  2020/01/25  2020/01/29\n",
      "19         110         45782  2020/01/01  2020/01/12\n"
     ]
    }
   ],
   "source": [
    "resultatFinal['Du'] = resultatFinal['Depuis'].dt.strftime('%Y/%m/%d')\n",
    "resultatFinal[\"Jusqu'a\"] = resultatFinal[\"Jusqu'au\"].dt.strftime('%Y/%m/%d')\n",
    "resultatFinal = resultatFinal.drop(['Depuis',\"Jusqu'au\"], axis=1)\n",
    "resultatFinal.reset_index(drop=True, inplace=True)\n",
    "print(resultatFinal[0:20])\n",
    "resultatFinal.to_excel(\"Montant10Jours.xlsx\",header=True,index=None)"
   ]
  }
 ],
 "metadata": {
  "kernelspec": {
   "display_name": "myenv",
   "language": "python",
   "name": "myenv"
  },
  "language_info": {
   "codemirror_mode": {
    "name": "ipython",
    "version": 3
   },
   "file_extension": ".py",
   "mimetype": "text/x-python",
   "name": "python",
   "nbconvert_exporter": "python",
   "pygments_lexer": "ipython3",
   "version": "3.9.1"
  }
 },
 "nbformat": 4,
 "nbformat_minor": 4
}
