{
 "cells": [
  {
   "cell_type": "markdown",
   "id": "interesting-retro",
   "metadata": {},
   "source": [
    "# This script is used to generate randomly a file, containing informations about the employees transactions.\n",
    "\n",
    "## For confideltiality purposes, i didn't share the original file !\n",
    "\n",
    "We will need informations such as the employee's ID, the amount and the date of the transaction.\n",
    "\n",
    "This file be used in the `anomaly_transactions.ipynb` notebook, to detect employees who exceeded 3 transactions per 10 days, because this is considered as a suspicious act and an anomaly.\n",
    "\n",
    "Check the `README` repo's file for more details !"
   ]
  },
  {
   "cell_type": "code",
   "execution_count": 19,
   "id": "neither-torture",
   "metadata": {},
   "outputs": [],
   "source": [
    "import pandas as pd\n",
    "import random\n",
    "from random import randrange\n",
    "from datetime import timedelta, datetime"
   ]
  },
  {
   "cell_type": "code",
   "execution_count": 20,
   "id": "illegal-cancer",
   "metadata": {},
   "outputs": [
    {
     "name": "stdin",
     "output_type": "stream",
     "text": [
      "How many lines to generate ? 10000\n"
     ]
    }
   ],
   "source": [
    "while True:\n",
    "    n = int(input(\"How many lines to generate ?\"))\n",
    "    if n <= 1000000 and n>0:\n",
    "        break;\n",
    "        \n",
    "ids = []\n",
    "nb_id = int(n/2)"
   ]
  },
  {
   "cell_type": "markdown",
   "id": "legal-survival",
   "metadata": {},
   "source": [
    "# Function will be used to generate random dates. "
   ]
  },
  {
   "cell_type": "code",
   "execution_count": 21,
   "id": "floating-berkeley",
   "metadata": {},
   "outputs": [],
   "source": [
    "def random_date(start, end):\n",
    "    \"\"\"\n",
    "    This function will return a random datetime between two datetime \n",
    "    objects.\n",
    "    \"\"\"\n",
    "    delta = end - start\n",
    "    int_delta = (delta.days * 24 * 60 * 60) + delta.seconds\n",
    "    random_second = randrange(int_delta)\n",
    "    return start + timedelta(seconds=random_second)"
   ]
  },
  {
   "cell_type": "code",
   "execution_count": 22,
   "id": "absent-office",
   "metadata": {},
   "outputs": [
    {
     "name": "stdout",
     "output_type": "stream",
     "text": [
      "     employee_ID Amount                Date\n",
      "0           2681  11186 2020-01-09 19:08:03\n",
      "1           1016  14395 2020-01-24 18:00:55\n",
      "2           3256  22493 2020-01-10 16:06:21\n",
      "3            406  39279 2020-01-21 09:48:13\n",
      "4           2079  42199 2020-01-30 11:51:23\n",
      "...          ...    ...                 ...\n",
      "9995         859  26473 2020-01-22 08:28:46\n",
      "9996        4041  28403 2020-01-01 03:04:31\n",
      "9997         855  19915 2020-01-05 03:35:23\n",
      "9998        3781  29636 2020-01-27 12:58:24\n",
      "9999        2391  32220 2020-01-04 08:46:23\n",
      "\n",
      "[10000 rows x 3 columns]\n"
     ]
    }
   ],
   "source": [
    "cols = [\"employee_ID\", \"Amount\", \"Date\"]\n",
    "df = pd.DataFrame(columns = cols)\n",
    "\n",
    "#Generating random IDs\n",
    "\n",
    "for i in range(n):\n",
    "    line_id = random.randint(1,nb_id)\n",
    "    line_amount = random.randint(1000, 50000)\n",
    "    \n",
    "    d1 = datetime.strptime('1/1/2020', '%d/%m/%Y')\n",
    "    d2 = datetime.strptime('31/1/2020', '%d/%m/%Y')\n",
    "\n",
    "    line_date = random_date(d1, d2)\n",
    "\n",
    "    new_row = {cols[0]:line_id, cols[1]:line_amount, cols[2]:line_date}\n",
    "    df = df.append(new_row, ignore_index=True)\n",
    "\n",
    "print(df)"
   ]
  },
  {
   "cell_type": "markdown",
   "id": "according-retirement",
   "metadata": {},
   "source": [
    "# Storing the file !"
   ]
  },
  {
   "cell_type": "code",
   "execution_count": 23,
   "id": "continuing-adams",
   "metadata": {},
   "outputs": [],
   "source": [
    "df.to_excel(\"Generated_file.xlsx\",header=True,index=None)"
   ]
  }
 ],
 "metadata": {
  "kernelspec": {
   "display_name": "myenv",
   "language": "python",
   "name": "myenv"
  },
  "language_info": {
   "codemirror_mode": {
    "name": "ipython",
    "version": 3
   },
   "file_extension": ".py",
   "mimetype": "text/x-python",
   "name": "python",
   "nbconvert_exporter": "python",
   "pygments_lexer": "ipython3",
   "version": "3.9.1"
  }
 },
 "nbformat": 4,
 "nbformat_minor": 5
}
